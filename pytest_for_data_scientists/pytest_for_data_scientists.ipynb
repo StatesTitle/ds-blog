{
 "cells": [
  {
   "cell_type": "code",
   "execution_count": 1,
   "metadata": {},
   "outputs": [],
   "source": [
    "import ipytest\n",
    "import pandas as pd\n",
    "import pytest\n",
    "\n",
    "# enable pytest's assertions and ipytest's magics\n",
    "ipytest.config(rewrite_asserts=True, magics=True)\n",
    "\n",
    "# set the filename\n",
    "__file__ = 'pytest_for_data_scientists.ipynb'"
   ]
  },
  {
   "cell_type": "code",
   "execution_count": 2,
   "metadata": {},
   "outputs": [],
   "source": [
    "def column_difference(df, col1, col2):\n",
    "    \"\"\"Subtract items in `col1` from items in `col2` elementwise (e.g. df[col1] - df[col2)]\"\"\"\n",
    "    return df[col1] - df[col2]"
   ]
  },
  {
   "cell_type": "code",
   "execution_count": 3,
   "metadata": {},
   "outputs": [],
   "source": [
    "def test_column_difference():\n",
    "    test_df = pd.DataFrame([(1, 2), (3, 4)], columns=[\"A\", \"B\"])\n",
    "    test_df[\"A_minus_B\"] = column_difference(test_df, col1=\"A\", col2=\"B\")\n",
    "    assert all(test_df[\"A_minus_B\"] == pd.Series([-1, -1]))"
   ]
  },
  {
   "cell_type": "code",
   "execution_count": 4,
   "metadata": {},
   "outputs": [
    {
     "name": "stdout",
     "output_type": "stream",
     "text": [
      "======================================== test session starts =========================================\n",
      "platform darwin -- Python 3.7.4, pytest-4.6.2, py-1.8.0, pluggy-0.12.0 -- /usr/local/opt/python/bin/python3.7\n",
      "cachedir: .pytest_cache\n",
      "rootdir: /Users/danielsammons/software/ds-blog/pytest_for_data_scientists\n",
      "collecting ... collected 1 item\n",
      "\n",
      "pytest_for_data_scientists.py::test_column_difference <- <ipython-input-3-4bdfa87f1f37> PASSED\n",
      "\n",
      "====================================== 1 passed in 0.03 seconds ======================================\n"
     ]
    }
   ],
   "source": [
    "ipytest.run('-svvv')"
   ]
  },
  {
   "cell_type": "code",
   "execution_count": 5,
   "metadata": {},
   "outputs": [],
   "source": [
    "# A failing test\n",
    "def test_column_difference():\n",
    "    test_df = pd.DataFrame([(1, 2), (3, 4)], columns=[\"A\", \"B\"])\n",
    "    test_df[\"A_minus_B\"] = column_difference(test_df, col1=\"A\", col2=\"B\")\n",
    "    assert all(test_df[\"A_minus_B\"] == pd.Series([-2, -1]))"
   ]
  },
  {
   "cell_type": "code",
   "execution_count": 6,
   "metadata": {},
   "outputs": [
    {
     "name": "stdout",
     "output_type": "stream",
     "text": [
      "======================================== test session starts =========================================\n",
      "platform darwin -- Python 3.7.4, pytest-4.6.2, py-1.8.0, pluggy-0.12.0 -- /usr/local/opt/python/bin/python3.7\n",
      "cachedir: .pytest_cache\n",
      "rootdir: /Users/danielsammons/software/ds-blog/pytest_for_data_scientists\n",
      "collecting ... collected 1 item\n",
      "\n",
      "pytest_for_data_scientists.py::test_column_difference <- <ipython-input-5-686c9e9b1a37> FAILED\n",
      "\n",
      "============================================== FAILURES ==============================================\n",
      "_______________________________________ test_column_difference _______________________________________\n",
      "\n",
      "    def test_column_difference():\n",
      "        test_df = pd.DataFrame([(1, 2), (3, 4)], columns=[\"A\", \"B\"])\n",
      "        test_df[\"A_minus_B\"] = column_difference(test_df, col1=\"A\", col2=\"B\")\n",
      ">       assert all(test_df[\"A_minus_B\"] == pd.Series([-2, -1]))\n",
      "E       assert False\n",
      "E        +  where False = all(0   -1\\n1   -1..., dtype: int64 == 0   -2\\n1   -1\\ndtype: int64\n",
      "E           -0   -1\\n\n",
      "E           -1   -1\\n\n",
      "E           -Name: A_minus_B, dtype: int64\n",
      "E           +0   -2\\n\n",
      "E           +1   -1\\n\n",
      "E           +dtype: int64\n",
      "E           Full diff:\n",
      "E           - 0   -1\n",
      "E           ?      ^\n",
      "E           + 0   -2\n",
      "E           ?      ^\n",
      "E           1   -1\n",
      "E           - Name: A_minus_B, dtype: int64\n",
      "E           + dtype: int64)\n",
      "\n",
      "<ipython-input-5-686c9e9b1a37>:5: AssertionError\n",
      "====================================== 1 failed in 0.13 seconds ======================================\n"
     ]
    }
   ],
   "source": [
    "ipytest.run('-svvv')"
   ]
  },
  {
   "cell_type": "code",
   "execution_count": 7,
   "metadata": {},
   "outputs": [],
   "source": [
    "def test_column_difference():\n",
    "    # test common cases\n",
    "    test_df = pd.DataFrame([(1, 2), (3, 4)], columns=[\"A\", \"B\"])\n",
    "    test_df[\"A_minus_B\"] = column_difference(test_df, col1=\"A\", col2=\"B\")\n",
    "    assert all(test_df[\"A_minus_B\"] == pd.Series([-1, -1]))\n",
    "    test_df = pd.DataFrame([(5, 3), (10, 14), (0, -8)], columns=[\"A\", \"B\"])\n",
    "    test_df[\"A_minus_B\"] = column_difference(test_df, col1=\"A\", col2=\"B\")\n",
    "    assert all(test_df[\"A_minus_B\"] == pd.Series([2, -4, 8]))\n",
    "    # Include a third column\n",
    "    test_df = pd.DataFrame([(1, 2, 100), (3, 4, 200)], columns=[\"A\", \"B\", \"C\"])\n",
    "    test_df[\"A_minus_B\"] = column_difference(test_df, col1=\"A\", col2=\"B\")\n",
    "    assert all(test_df[\"A_minus_B\"] == pd.Series([-1, -1]))\n",
    "    # Tets column of zeros\n",
    "    test_df = pd.DataFrame([(1, 0), (3, 0)], columns=[\"A\", \"B\"])\n",
    "    test_df[\"A_minus_B\"] = column_difference(test_df, col1=\"A\", col2=\"B\")\n",
    "    assert all(test_df[\"A_minus_B\"] == pd.Series([1, 3]))\n",
    "    # Test empty dataframe\n",
    "    test_df = pd.DataFrame(columns=[\"A\", \"B\"])\n",
    "    test_df[\"A_minus_B\"] = column_difference(test_df, col1=\"A\", col2=\"B\")\n",
    "    assert all(test_df[\"A_minus_B\"] == pd.Series([]))"
   ]
  },
  {
   "cell_type": "code",
   "execution_count": 8,
   "metadata": {},
   "outputs": [
    {
     "name": "stdout",
     "output_type": "stream",
     "text": [
      "======================================== test session starts =========================================\n",
      "platform darwin -- Python 3.7.4, pytest-4.6.2, py-1.8.0, pluggy-0.12.0 -- /usr/local/opt/python/bin/python3.7\n",
      "cachedir: .pytest_cache\n",
      "rootdir: /Users/danielsammons/software/ds-blog/pytest_for_data_scientists\n",
      "collecting ... collected 1 item\n",
      "\n",
      "pytest_for_data_scientists.py::test_column_difference <- <ipython-input-7-34c172daba78> PASSED\n",
      "\n",
      "====================================== 1 passed in 0.03 seconds ======================================\n"
     ]
    }
   ],
   "source": [
    "ipytest.run('-svvv')"
   ]
  },
  {
   "cell_type": "code",
   "execution_count": 9,
   "metadata": {},
   "outputs": [],
   "source": [
    "test_columns_difference_params = [\n",
    "    # test common cases\n",
    "    ([(1, 2), (3, 4)], [\"A\", \"B\"], [-1, -1]),\n",
    "    ([(5, 3), (10, 14), (0, -8)], [\"A\", \"B\"], [2, -4, 8]),\n",
    "    # Include a third column\n",
    "    ([(1, 2, 100), (3, 4, 200)], [\"A\", \"B\", \"C\"], [-1, -1]),\n",
    "    # Tets column of zeros\n",
    "    ([(1, 0), (3, 0)], [\"A\", \"B\"], [1, 3]),\n",
    "    # Test empty dataframe\n",
    "    ([], [\"A\", \"B\"], []),\n",
    "]\n",
    "\n",
    "\n",
    "@pytest.mark.parametrize(\n",
    "    \"test_data, columns, expected_output\", test_columns_difference_params\n",
    ")\n",
    "def test_column_difference_with_parametrize(test_data, columns, expected_output):\n",
    "    test_df = pd.DataFrame(test_data, columns=columns)\n",
    "    expected_series = pd.Series(expected_output)\n",
    "    test_df[\"A_minus_B\"] = column_difference(test_df, col1=\"A\", col2=\"B\")\n",
    "    assert all(test_df[\"A_minus_B\"] == expected_series)"
   ]
  },
  {
   "cell_type": "code",
   "execution_count": 10,
   "metadata": {},
   "outputs": [
    {
     "name": "stdout",
     "output_type": "stream",
     "text": [
      "======================================== test session starts =========================================\n",
      "platform darwin -- Python 3.7.4, pytest-4.6.2, py-1.8.0, pluggy-0.12.0 -- /usr/local/opt/python/bin/python3.7\n",
      "cachedir: .pytest_cache\n",
      "rootdir: /Users/danielsammons/software/ds-blog/pytest_for_data_scientists\n",
      "collecting ... collected 6 items\n",
      "\n",
      "pytest_for_data_scientists.py::test_column_difference <- <ipython-input-7-34c172daba78> PASSED\n",
      "pytest_for_data_scientists.py::test_column_difference_with_parametrize[test_data0-columns0-expected_output0] <- <ipython-input-9-9db7e9cc9f50> PASSED\n",
      "pytest_for_data_scientists.py::test_column_difference_with_parametrize[test_data1-columns1-expected_output1] <- <ipython-input-9-9db7e9cc9f50> PASSED\n",
      "pytest_for_data_scientists.py::test_column_difference_with_parametrize[test_data2-columns2-expected_output2] <- <ipython-input-9-9db7e9cc9f50> PASSED\n",
      "pytest_for_data_scientists.py::test_column_difference_with_parametrize[test_data3-columns3-expected_output3] <- <ipython-input-9-9db7e9cc9f50> PASSED\n",
      "pytest_for_data_scientists.py::test_column_difference_with_parametrize[test_data4-columns4-expected_output4] <- <ipython-input-9-9db7e9cc9f50> PASSED\n",
      "\n",
      "====================================== 6 passed in 0.06 seconds ======================================\n"
     ]
    }
   ],
   "source": [
    "ipytest.run('-svvv')"
   ]
  },
  {
   "cell_type": "code",
   "execution_count": null,
   "metadata": {},
   "outputs": [],
   "source": []
  }
 ],
 "metadata": {
  "kernelspec": {
   "display_name": "Python 3",
   "language": "python",
   "name": "python3"
  },
  "language_info": {
   "codemirror_mode": {
    "name": "ipython",
    "version": 3
   },
   "file_extension": ".py",
   "mimetype": "text/x-python",
   "name": "python",
   "nbconvert_exporter": "python",
   "pygments_lexer": "ipython3",
   "version": "3.7.4"
  }
 },
 "nbformat": 4,
 "nbformat_minor": 2
}
